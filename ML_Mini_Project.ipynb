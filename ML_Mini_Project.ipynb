{
  "nbformat": 4,
  "nbformat_minor": 0,
  "metadata": {
    "colab": {
      "name": "ML_Mini_Project.ipynb",
      "provenance": [],
      "collapsed_sections": []
    },
    "kernelspec": {
      "name": "python3",
      "display_name": "Python 3"
    },
    "language_info": {
      "name": "python"
    }
  },
  "cells": [
    {
      "cell_type": "markdown",
      "metadata": {
        "id": "Ggqr9NX_XmcV"
      },
      "source": [
        "**VERIFYING THE ACCURACIES OF VARIOUS MACHINE LEARNING ALGORITHMS ON GENDER CLASSIFICATION DATASET TO CLASSIFY THE GENDER (BINARY CLASSIFICATION PROBLEM)** "
      ]
    },
    {
      "cell_type": "markdown",
      "metadata": {
        "id": "X21aq_-h9A6d"
      },
      "source": [
        "**Import essential libraries**"
      ]
    },
    {
      "cell_type": "code",
      "metadata": {
        "id": "ah8QJ3U98nwV"
      },
      "source": [
        "import warnings\n",
        "warnings.filterwarnings('ignore')\n",
        "\n",
        "#for data analysis and data visualization \n",
        "import numpy as np\n",
        "import pandas as pd\n",
        "import random as rnd\n",
        "import seaborn as sns\n",
        "import matplotlib.pyplot as plt\n",
        "%matplotlib inline\n",
        "\n",
        "#machine learning algorihms\n",
        "#(1)Decision Tree\n",
        "#(2)Random Forest\n",
        "#(3)k-NN\n",
        "#(4)Logistic Regression\n",
        "#(5)SVM (Linear)\n",
        "from sklearn.tree import DecisionTreeClassifier\n",
        "from sklearn.ensemble import RandomForestClassifier\n",
        "from sklearn.neighbors import KNeighborsClassifier\n",
        "from sklearn.linear_model import LogisticRegression\n",
        "from sklearn.svm import SVC, LinearSVC"
      ],
      "execution_count": 16,
      "outputs": []
    },
    {
      "cell_type": "markdown",
      "metadata": {
        "id": "x2cfE1Oj-aWy"
      },
      "source": [
        "**Load the dataset**"
      ]
    },
    {
      "cell_type": "code",
      "source": [
        "data = pd.read_csv(\"https://raw.githubusercontent.com/bharadhwaj02/Gender-classification/main/gender_classification.csv\")"
      ],
      "metadata": {
        "id": "xiouLsM8c8X4"
      },
      "execution_count": 17,
      "outputs": []
    },
    {
      "cell_type": "code",
      "source": [
        ""
      ],
      "metadata": {
        "id": "G0hZDowrdbm5"
      },
      "execution_count": 17,
      "outputs": []
    },
    {
      "cell_type": "code",
      "metadata": {
        "id": "a8Xv8dLM-gVz"
      },
      "source": [
        ""
      ],
      "execution_count": 17,
      "outputs": []
    },
    {
      "cell_type": "markdown",
      "metadata": {
        "id": "PGRH4zSO_Xj3"
      },
      "source": [
        "**Analyze by describing data**"
      ]
    },
    {
      "cell_type": "code",
      "metadata": {
        "colab": {
          "base_uri": "https://localhost:8080/"
        },
        "id": "mf2DRMLN_K9k",
        "outputId": "10b8f72a-599a-47e2-ec73-7dc569cc521f"
      },
      "source": [
        "data.shape"
      ],
      "execution_count": 18,
      "outputs": [
        {
          "output_type": "execute_result",
          "data": {
            "text/plain": [
              "(5001, 8)"
            ]
          },
          "metadata": {},
          "execution_count": 18
        }
      ]
    },
    {
      "cell_type": "code",
      "metadata": {
        "colab": {
          "base_uri": "https://localhost:8080/",
          "height": 206
        },
        "id": "DnJeuuk9-7XN",
        "outputId": "3b002874-1960-4b76-a33e-2b432782b0ea"
      },
      "source": [
        "data.head()"
      ],
      "execution_count": 19,
      "outputs": [
        {
          "output_type": "execute_result",
          "data": {
            "text/plain": [
              "   long_hair  forehead_width_cm  forehead_height_cm  nose_wide  nose_long  \\\n",
              "0          1               11.8                 6.1          1          0   \n",
              "1          0               14.0                 5.4          0          0   \n",
              "2          0               11.8                 6.3          1          1   \n",
              "3          0               14.4                 6.1          0          1   \n",
              "4          1               13.5                 5.9          0          0   \n",
              "\n",
              "   lips_thin  distance_nose_to_lip_long  gender  \n",
              "0          1                          1    Male  \n",
              "1          1                          0  Female  \n",
              "2          1                          1    Male  \n",
              "3          1                          1    Male  \n",
              "4          0                          0  Female  "
            ],
            "text/html": [
              "\n",
              "  <div id=\"df-e8b97749-4bba-4c3a-bae9-d14d9fbbb959\">\n",
              "    <div class=\"colab-df-container\">\n",
              "      <div>\n",
              "<style scoped>\n",
              "    .dataframe tbody tr th:only-of-type {\n",
              "        vertical-align: middle;\n",
              "    }\n",
              "\n",
              "    .dataframe tbody tr th {\n",
              "        vertical-align: top;\n",
              "    }\n",
              "\n",
              "    .dataframe thead th {\n",
              "        text-align: right;\n",
              "    }\n",
              "</style>\n",
              "<table border=\"1\" class=\"dataframe\">\n",
              "  <thead>\n",
              "    <tr style=\"text-align: right;\">\n",
              "      <th></th>\n",
              "      <th>long_hair</th>\n",
              "      <th>forehead_width_cm</th>\n",
              "      <th>forehead_height_cm</th>\n",
              "      <th>nose_wide</th>\n",
              "      <th>nose_long</th>\n",
              "      <th>lips_thin</th>\n",
              "      <th>distance_nose_to_lip_long</th>\n",
              "      <th>gender</th>\n",
              "    </tr>\n",
              "  </thead>\n",
              "  <tbody>\n",
              "    <tr>\n",
              "      <th>0</th>\n",
              "      <td>1</td>\n",
              "      <td>11.8</td>\n",
              "      <td>6.1</td>\n",
              "      <td>1</td>\n",
              "      <td>0</td>\n",
              "      <td>1</td>\n",
              "      <td>1</td>\n",
              "      <td>Male</td>\n",
              "    </tr>\n",
              "    <tr>\n",
              "      <th>1</th>\n",
              "      <td>0</td>\n",
              "      <td>14.0</td>\n",
              "      <td>5.4</td>\n",
              "      <td>0</td>\n",
              "      <td>0</td>\n",
              "      <td>1</td>\n",
              "      <td>0</td>\n",
              "      <td>Female</td>\n",
              "    </tr>\n",
              "    <tr>\n",
              "      <th>2</th>\n",
              "      <td>0</td>\n",
              "      <td>11.8</td>\n",
              "      <td>6.3</td>\n",
              "      <td>1</td>\n",
              "      <td>1</td>\n",
              "      <td>1</td>\n",
              "      <td>1</td>\n",
              "      <td>Male</td>\n",
              "    </tr>\n",
              "    <tr>\n",
              "      <th>3</th>\n",
              "      <td>0</td>\n",
              "      <td>14.4</td>\n",
              "      <td>6.1</td>\n",
              "      <td>0</td>\n",
              "      <td>1</td>\n",
              "      <td>1</td>\n",
              "      <td>1</td>\n",
              "      <td>Male</td>\n",
              "    </tr>\n",
              "    <tr>\n",
              "      <th>4</th>\n",
              "      <td>1</td>\n",
              "      <td>13.5</td>\n",
              "      <td>5.9</td>\n",
              "      <td>0</td>\n",
              "      <td>0</td>\n",
              "      <td>0</td>\n",
              "      <td>0</td>\n",
              "      <td>Female</td>\n",
              "    </tr>\n",
              "  </tbody>\n",
              "</table>\n",
              "</div>\n",
              "      <button class=\"colab-df-convert\" onclick=\"convertToInteractive('df-e8b97749-4bba-4c3a-bae9-d14d9fbbb959')\"\n",
              "              title=\"Convert this dataframe to an interactive table.\"\n",
              "              style=\"display:none;\">\n",
              "        \n",
              "  <svg xmlns=\"http://www.w3.org/2000/svg\" height=\"24px\"viewBox=\"0 0 24 24\"\n",
              "       width=\"24px\">\n",
              "    <path d=\"M0 0h24v24H0V0z\" fill=\"none\"/>\n",
              "    <path d=\"M18.56 5.44l.94 2.06.94-2.06 2.06-.94-2.06-.94-.94-2.06-.94 2.06-2.06.94zm-11 1L8.5 8.5l.94-2.06 2.06-.94-2.06-.94L8.5 2.5l-.94 2.06-2.06.94zm10 10l.94 2.06.94-2.06 2.06-.94-2.06-.94-.94-2.06-.94 2.06-2.06.94z\"/><path d=\"M17.41 7.96l-1.37-1.37c-.4-.4-.92-.59-1.43-.59-.52 0-1.04.2-1.43.59L10.3 9.45l-7.72 7.72c-.78.78-.78 2.05 0 2.83L4 21.41c.39.39.9.59 1.41.59.51 0 1.02-.2 1.41-.59l7.78-7.78 2.81-2.81c.8-.78.8-2.07 0-2.86zM5.41 20L4 18.59l7.72-7.72 1.47 1.35L5.41 20z\"/>\n",
              "  </svg>\n",
              "      </button>\n",
              "      \n",
              "  <style>\n",
              "    .colab-df-container {\n",
              "      display:flex;\n",
              "      flex-wrap:wrap;\n",
              "      gap: 12px;\n",
              "    }\n",
              "\n",
              "    .colab-df-convert {\n",
              "      background-color: #E8F0FE;\n",
              "      border: none;\n",
              "      border-radius: 50%;\n",
              "      cursor: pointer;\n",
              "      display: none;\n",
              "      fill: #1967D2;\n",
              "      height: 32px;\n",
              "      padding: 0 0 0 0;\n",
              "      width: 32px;\n",
              "    }\n",
              "\n",
              "    .colab-df-convert:hover {\n",
              "      background-color: #E2EBFA;\n",
              "      box-shadow: 0px 1px 2px rgba(60, 64, 67, 0.3), 0px 1px 3px 1px rgba(60, 64, 67, 0.15);\n",
              "      fill: #174EA6;\n",
              "    }\n",
              "\n",
              "    [theme=dark] .colab-df-convert {\n",
              "      background-color: #3B4455;\n",
              "      fill: #D2E3FC;\n",
              "    }\n",
              "\n",
              "    [theme=dark] .colab-df-convert:hover {\n",
              "      background-color: #434B5C;\n",
              "      box-shadow: 0px 1px 3px 1px rgba(0, 0, 0, 0.15);\n",
              "      filter: drop-shadow(0px 1px 2px rgba(0, 0, 0, 0.3));\n",
              "      fill: #FFFFFF;\n",
              "    }\n",
              "  </style>\n",
              "\n",
              "      <script>\n",
              "        const buttonEl =\n",
              "          document.querySelector('#df-e8b97749-4bba-4c3a-bae9-d14d9fbbb959 button.colab-df-convert');\n",
              "        buttonEl.style.display =\n",
              "          google.colab.kernel.accessAllowed ? 'block' : 'none';\n",
              "\n",
              "        async function convertToInteractive(key) {\n",
              "          const element = document.querySelector('#df-e8b97749-4bba-4c3a-bae9-d14d9fbbb959');\n",
              "          const dataTable =\n",
              "            await google.colab.kernel.invokeFunction('convertToInteractive',\n",
              "                                                     [key], {});\n",
              "          if (!dataTable) return;\n",
              "\n",
              "          const docLinkHtml = 'Like what you see? Visit the ' +\n",
              "            '<a target=\"_blank\" href=https://colab.research.google.com/notebooks/data_table.ipynb>data table notebook</a>'\n",
              "            + ' to learn more about interactive tables.';\n",
              "          element.innerHTML = '';\n",
              "          dataTable['output_type'] = 'display_data';\n",
              "          await google.colab.output.renderOutput(dataTable, element);\n",
              "          const docLink = document.createElement('div');\n",
              "          docLink.innerHTML = docLinkHtml;\n",
              "          element.appendChild(docLink);\n",
              "        }\n",
              "      </script>\n",
              "    </div>\n",
              "  </div>\n",
              "  "
            ]
          },
          "metadata": {},
          "execution_count": 19
        }
      ]
    },
    {
      "cell_type": "code",
      "metadata": {
        "colab": {
          "base_uri": "https://localhost:8080/",
          "height": 206
        },
        "id": "vwg31eSW_0rZ",
        "outputId": "efe87737-8bd5-4605-ac38-647b1a3472d2"
      },
      "source": [
        "data.tail()"
      ],
      "execution_count": 20,
      "outputs": [
        {
          "output_type": "execute_result",
          "data": {
            "text/plain": [
              "      long_hair  forehead_width_cm  forehead_height_cm  nose_wide  nose_long  \\\n",
              "4996          1               13.6                 5.1          0          0   \n",
              "4997          1               11.9                 5.4          0          0   \n",
              "4998          1               12.9                 5.7          0          0   \n",
              "4999          1               13.2                 6.2          0          0   \n",
              "5000          1               15.4                 5.4          1          1   \n",
              "\n",
              "      lips_thin  distance_nose_to_lip_long  gender  \n",
              "4996          0                          0  Female  \n",
              "4997          0                          0  Female  \n",
              "4998          0                          0  Female  \n",
              "4999          0                          0  Female  \n",
              "5000          1                          1    Male  "
            ],
            "text/html": [
              "\n",
              "  <div id=\"df-73d98823-b71f-4b29-a374-9b36304b7258\">\n",
              "    <div class=\"colab-df-container\">\n",
              "      <div>\n",
              "<style scoped>\n",
              "    .dataframe tbody tr th:only-of-type {\n",
              "        vertical-align: middle;\n",
              "    }\n",
              "\n",
              "    .dataframe tbody tr th {\n",
              "        vertical-align: top;\n",
              "    }\n",
              "\n",
              "    .dataframe thead th {\n",
              "        text-align: right;\n",
              "    }\n",
              "</style>\n",
              "<table border=\"1\" class=\"dataframe\">\n",
              "  <thead>\n",
              "    <tr style=\"text-align: right;\">\n",
              "      <th></th>\n",
              "      <th>long_hair</th>\n",
              "      <th>forehead_width_cm</th>\n",
              "      <th>forehead_height_cm</th>\n",
              "      <th>nose_wide</th>\n",
              "      <th>nose_long</th>\n",
              "      <th>lips_thin</th>\n",
              "      <th>distance_nose_to_lip_long</th>\n",
              "      <th>gender</th>\n",
              "    </tr>\n",
              "  </thead>\n",
              "  <tbody>\n",
              "    <tr>\n",
              "      <th>4996</th>\n",
              "      <td>1</td>\n",
              "      <td>13.6</td>\n",
              "      <td>5.1</td>\n",
              "      <td>0</td>\n",
              "      <td>0</td>\n",
              "      <td>0</td>\n",
              "      <td>0</td>\n",
              "      <td>Female</td>\n",
              "    </tr>\n",
              "    <tr>\n",
              "      <th>4997</th>\n",
              "      <td>1</td>\n",
              "      <td>11.9</td>\n",
              "      <td>5.4</td>\n",
              "      <td>0</td>\n",
              "      <td>0</td>\n",
              "      <td>0</td>\n",
              "      <td>0</td>\n",
              "      <td>Female</td>\n",
              "    </tr>\n",
              "    <tr>\n",
              "      <th>4998</th>\n",
              "      <td>1</td>\n",
              "      <td>12.9</td>\n",
              "      <td>5.7</td>\n",
              "      <td>0</td>\n",
              "      <td>0</td>\n",
              "      <td>0</td>\n",
              "      <td>0</td>\n",
              "      <td>Female</td>\n",
              "    </tr>\n",
              "    <tr>\n",
              "      <th>4999</th>\n",
              "      <td>1</td>\n",
              "      <td>13.2</td>\n",
              "      <td>6.2</td>\n",
              "      <td>0</td>\n",
              "      <td>0</td>\n",
              "      <td>0</td>\n",
              "      <td>0</td>\n",
              "      <td>Female</td>\n",
              "    </tr>\n",
              "    <tr>\n",
              "      <th>5000</th>\n",
              "      <td>1</td>\n",
              "      <td>15.4</td>\n",
              "      <td>5.4</td>\n",
              "      <td>1</td>\n",
              "      <td>1</td>\n",
              "      <td>1</td>\n",
              "      <td>1</td>\n",
              "      <td>Male</td>\n",
              "    </tr>\n",
              "  </tbody>\n",
              "</table>\n",
              "</div>\n",
              "      <button class=\"colab-df-convert\" onclick=\"convertToInteractive('df-73d98823-b71f-4b29-a374-9b36304b7258')\"\n",
              "              title=\"Convert this dataframe to an interactive table.\"\n",
              "              style=\"display:none;\">\n",
              "        \n",
              "  <svg xmlns=\"http://www.w3.org/2000/svg\" height=\"24px\"viewBox=\"0 0 24 24\"\n",
              "       width=\"24px\">\n",
              "    <path d=\"M0 0h24v24H0V0z\" fill=\"none\"/>\n",
              "    <path d=\"M18.56 5.44l.94 2.06.94-2.06 2.06-.94-2.06-.94-.94-2.06-.94 2.06-2.06.94zm-11 1L8.5 8.5l.94-2.06 2.06-.94-2.06-.94L8.5 2.5l-.94 2.06-2.06.94zm10 10l.94 2.06.94-2.06 2.06-.94-2.06-.94-.94-2.06-.94 2.06-2.06.94z\"/><path d=\"M17.41 7.96l-1.37-1.37c-.4-.4-.92-.59-1.43-.59-.52 0-1.04.2-1.43.59L10.3 9.45l-7.72 7.72c-.78.78-.78 2.05 0 2.83L4 21.41c.39.39.9.59 1.41.59.51 0 1.02-.2 1.41-.59l7.78-7.78 2.81-2.81c.8-.78.8-2.07 0-2.86zM5.41 20L4 18.59l7.72-7.72 1.47 1.35L5.41 20z\"/>\n",
              "  </svg>\n",
              "      </button>\n",
              "      \n",
              "  <style>\n",
              "    .colab-df-container {\n",
              "      display:flex;\n",
              "      flex-wrap:wrap;\n",
              "      gap: 12px;\n",
              "    }\n",
              "\n",
              "    .colab-df-convert {\n",
              "      background-color: #E8F0FE;\n",
              "      border: none;\n",
              "      border-radius: 50%;\n",
              "      cursor: pointer;\n",
              "      display: none;\n",
              "      fill: #1967D2;\n",
              "      height: 32px;\n",
              "      padding: 0 0 0 0;\n",
              "      width: 32px;\n",
              "    }\n",
              "\n",
              "    .colab-df-convert:hover {\n",
              "      background-color: #E2EBFA;\n",
              "      box-shadow: 0px 1px 2px rgba(60, 64, 67, 0.3), 0px 1px 3px 1px rgba(60, 64, 67, 0.15);\n",
              "      fill: #174EA6;\n",
              "    }\n",
              "\n",
              "    [theme=dark] .colab-df-convert {\n",
              "      background-color: #3B4455;\n",
              "      fill: #D2E3FC;\n",
              "    }\n",
              "\n",
              "    [theme=dark] .colab-df-convert:hover {\n",
              "      background-color: #434B5C;\n",
              "      box-shadow: 0px 1px 3px 1px rgba(0, 0, 0, 0.15);\n",
              "      filter: drop-shadow(0px 1px 2px rgba(0, 0, 0, 0.3));\n",
              "      fill: #FFFFFF;\n",
              "    }\n",
              "  </style>\n",
              "\n",
              "      <script>\n",
              "        const buttonEl =\n",
              "          document.querySelector('#df-73d98823-b71f-4b29-a374-9b36304b7258 button.colab-df-convert');\n",
              "        buttonEl.style.display =\n",
              "          google.colab.kernel.accessAllowed ? 'block' : 'none';\n",
              "\n",
              "        async function convertToInteractive(key) {\n",
              "          const element = document.querySelector('#df-73d98823-b71f-4b29-a374-9b36304b7258');\n",
              "          const dataTable =\n",
              "            await google.colab.kernel.invokeFunction('convertToInteractive',\n",
              "                                                     [key], {});\n",
              "          if (!dataTable) return;\n",
              "\n",
              "          const docLinkHtml = 'Like what you see? Visit the ' +\n",
              "            '<a target=\"_blank\" href=https://colab.research.google.com/notebooks/data_table.ipynb>data table notebook</a>'\n",
              "            + ' to learn more about interactive tables.';\n",
              "          element.innerHTML = '';\n",
              "          dataTable['output_type'] = 'display_data';\n",
              "          await google.colab.output.renderOutput(dataTable, element);\n",
              "          const docLink = document.createElement('div');\n",
              "          docLink.innerHTML = docLinkHtml;\n",
              "          element.appendChild(docLink);\n",
              "        }\n",
              "      </script>\n",
              "    </div>\n",
              "  </div>\n",
              "  "
            ]
          },
          "metadata": {},
          "execution_count": 20
        }
      ]
    },
    {
      "cell_type": "code",
      "metadata": {
        "colab": {
          "base_uri": "https://localhost:8080/",
          "height": 206
        },
        "id": "awCAh46H4Zvi",
        "outputId": "dcef26ae-05bb-41ee-e2dd-dc3fba47645b"
      },
      "source": [
        "from sklearn.preprocessing import LabelEncoder\n",
        "le = LabelEncoder()\n",
        "data['gender']=le.fit_transform(data['gender'])\n",
        "data.head()"
      ],
      "execution_count": 21,
      "outputs": [
        {
          "output_type": "execute_result",
          "data": {
            "text/plain": [
              "   long_hair  forehead_width_cm  forehead_height_cm  nose_wide  nose_long  \\\n",
              "0          1               11.8                 6.1          1          0   \n",
              "1          0               14.0                 5.4          0          0   \n",
              "2          0               11.8                 6.3          1          1   \n",
              "3          0               14.4                 6.1          0          1   \n",
              "4          1               13.5                 5.9          0          0   \n",
              "\n",
              "   lips_thin  distance_nose_to_lip_long  gender  \n",
              "0          1                          1       1  \n",
              "1          1                          0       0  \n",
              "2          1                          1       1  \n",
              "3          1                          1       1  \n",
              "4          0                          0       0  "
            ],
            "text/html": [
              "\n",
              "  <div id=\"df-19cb9d45-6bdd-4ad8-9205-d412bd571a59\">\n",
              "    <div class=\"colab-df-container\">\n",
              "      <div>\n",
              "<style scoped>\n",
              "    .dataframe tbody tr th:only-of-type {\n",
              "        vertical-align: middle;\n",
              "    }\n",
              "\n",
              "    .dataframe tbody tr th {\n",
              "        vertical-align: top;\n",
              "    }\n",
              "\n",
              "    .dataframe thead th {\n",
              "        text-align: right;\n",
              "    }\n",
              "</style>\n",
              "<table border=\"1\" class=\"dataframe\">\n",
              "  <thead>\n",
              "    <tr style=\"text-align: right;\">\n",
              "      <th></th>\n",
              "      <th>long_hair</th>\n",
              "      <th>forehead_width_cm</th>\n",
              "      <th>forehead_height_cm</th>\n",
              "      <th>nose_wide</th>\n",
              "      <th>nose_long</th>\n",
              "      <th>lips_thin</th>\n",
              "      <th>distance_nose_to_lip_long</th>\n",
              "      <th>gender</th>\n",
              "    </tr>\n",
              "  </thead>\n",
              "  <tbody>\n",
              "    <tr>\n",
              "      <th>0</th>\n",
              "      <td>1</td>\n",
              "      <td>11.8</td>\n",
              "      <td>6.1</td>\n",
              "      <td>1</td>\n",
              "      <td>0</td>\n",
              "      <td>1</td>\n",
              "      <td>1</td>\n",
              "      <td>1</td>\n",
              "    </tr>\n",
              "    <tr>\n",
              "      <th>1</th>\n",
              "      <td>0</td>\n",
              "      <td>14.0</td>\n",
              "      <td>5.4</td>\n",
              "      <td>0</td>\n",
              "      <td>0</td>\n",
              "      <td>1</td>\n",
              "      <td>0</td>\n",
              "      <td>0</td>\n",
              "    </tr>\n",
              "    <tr>\n",
              "      <th>2</th>\n",
              "      <td>0</td>\n",
              "      <td>11.8</td>\n",
              "      <td>6.3</td>\n",
              "      <td>1</td>\n",
              "      <td>1</td>\n",
              "      <td>1</td>\n",
              "      <td>1</td>\n",
              "      <td>1</td>\n",
              "    </tr>\n",
              "    <tr>\n",
              "      <th>3</th>\n",
              "      <td>0</td>\n",
              "      <td>14.4</td>\n",
              "      <td>6.1</td>\n",
              "      <td>0</td>\n",
              "      <td>1</td>\n",
              "      <td>1</td>\n",
              "      <td>1</td>\n",
              "      <td>1</td>\n",
              "    </tr>\n",
              "    <tr>\n",
              "      <th>4</th>\n",
              "      <td>1</td>\n",
              "      <td>13.5</td>\n",
              "      <td>5.9</td>\n",
              "      <td>0</td>\n",
              "      <td>0</td>\n",
              "      <td>0</td>\n",
              "      <td>0</td>\n",
              "      <td>0</td>\n",
              "    </tr>\n",
              "  </tbody>\n",
              "</table>\n",
              "</div>\n",
              "      <button class=\"colab-df-convert\" onclick=\"convertToInteractive('df-19cb9d45-6bdd-4ad8-9205-d412bd571a59')\"\n",
              "              title=\"Convert this dataframe to an interactive table.\"\n",
              "              style=\"display:none;\">\n",
              "        \n",
              "  <svg xmlns=\"http://www.w3.org/2000/svg\" height=\"24px\"viewBox=\"0 0 24 24\"\n",
              "       width=\"24px\">\n",
              "    <path d=\"M0 0h24v24H0V0z\" fill=\"none\"/>\n",
              "    <path d=\"M18.56 5.44l.94 2.06.94-2.06 2.06-.94-2.06-.94-.94-2.06-.94 2.06-2.06.94zm-11 1L8.5 8.5l.94-2.06 2.06-.94-2.06-.94L8.5 2.5l-.94 2.06-2.06.94zm10 10l.94 2.06.94-2.06 2.06-.94-2.06-.94-.94-2.06-.94 2.06-2.06.94z\"/><path d=\"M17.41 7.96l-1.37-1.37c-.4-.4-.92-.59-1.43-.59-.52 0-1.04.2-1.43.59L10.3 9.45l-7.72 7.72c-.78.78-.78 2.05 0 2.83L4 21.41c.39.39.9.59 1.41.59.51 0 1.02-.2 1.41-.59l7.78-7.78 2.81-2.81c.8-.78.8-2.07 0-2.86zM5.41 20L4 18.59l7.72-7.72 1.47 1.35L5.41 20z\"/>\n",
              "  </svg>\n",
              "      </button>\n",
              "      \n",
              "  <style>\n",
              "    .colab-df-container {\n",
              "      display:flex;\n",
              "      flex-wrap:wrap;\n",
              "      gap: 12px;\n",
              "    }\n",
              "\n",
              "    .colab-df-convert {\n",
              "      background-color: #E8F0FE;\n",
              "      border: none;\n",
              "      border-radius: 50%;\n",
              "      cursor: pointer;\n",
              "      display: none;\n",
              "      fill: #1967D2;\n",
              "      height: 32px;\n",
              "      padding: 0 0 0 0;\n",
              "      width: 32px;\n",
              "    }\n",
              "\n",
              "    .colab-df-convert:hover {\n",
              "      background-color: #E2EBFA;\n",
              "      box-shadow: 0px 1px 2px rgba(60, 64, 67, 0.3), 0px 1px 3px 1px rgba(60, 64, 67, 0.15);\n",
              "      fill: #174EA6;\n",
              "    }\n",
              "\n",
              "    [theme=dark] .colab-df-convert {\n",
              "      background-color: #3B4455;\n",
              "      fill: #D2E3FC;\n",
              "    }\n",
              "\n",
              "    [theme=dark] .colab-df-convert:hover {\n",
              "      background-color: #434B5C;\n",
              "      box-shadow: 0px 1px 3px 1px rgba(0, 0, 0, 0.15);\n",
              "      filter: drop-shadow(0px 1px 2px rgba(0, 0, 0, 0.3));\n",
              "      fill: #FFFFFF;\n",
              "    }\n",
              "  </style>\n",
              "\n",
              "      <script>\n",
              "        const buttonEl =\n",
              "          document.querySelector('#df-19cb9d45-6bdd-4ad8-9205-d412bd571a59 button.colab-df-convert');\n",
              "        buttonEl.style.display =\n",
              "          google.colab.kernel.accessAllowed ? 'block' : 'none';\n",
              "\n",
              "        async function convertToInteractive(key) {\n",
              "          const element = document.querySelector('#df-19cb9d45-6bdd-4ad8-9205-d412bd571a59');\n",
              "          const dataTable =\n",
              "            await google.colab.kernel.invokeFunction('convertToInteractive',\n",
              "                                                     [key], {});\n",
              "          if (!dataTable) return;\n",
              "\n",
              "          const docLinkHtml = 'Like what you see? Visit the ' +\n",
              "            '<a target=\"_blank\" href=https://colab.research.google.com/notebooks/data_table.ipynb>data table notebook</a>'\n",
              "            + ' to learn more about interactive tables.';\n",
              "          element.innerHTML = '';\n",
              "          dataTable['output_type'] = 'display_data';\n",
              "          await google.colab.output.renderOutput(dataTable, element);\n",
              "          const docLink = document.createElement('div');\n",
              "          docLink.innerHTML = docLinkHtml;\n",
              "          element.appendChild(docLink);\n",
              "        }\n",
              "      </script>\n",
              "    </div>\n",
              "  </div>\n",
              "  "
            ]
          },
          "metadata": {},
          "execution_count": 21
        }
      ]
    },
    {
      "cell_type": "code",
      "metadata": {
        "colab": {
          "base_uri": "https://localhost:8080/"
        },
        "id": "AWEPXjFB_5uQ",
        "outputId": "94598f9b-125e-4c4d-cdb1-50cb1ec19e15"
      },
      "source": [
        "#info of various features\n",
        "data.info()"
      ],
      "execution_count": 22,
      "outputs": [
        {
          "output_type": "stream",
          "name": "stdout",
          "text": [
            "<class 'pandas.core.frame.DataFrame'>\n",
            "RangeIndex: 5001 entries, 0 to 5000\n",
            "Data columns (total 8 columns):\n",
            " #   Column                     Non-Null Count  Dtype  \n",
            "---  ------                     --------------  -----  \n",
            " 0   long_hair                  5001 non-null   int64  \n",
            " 1   forehead_width_cm          5001 non-null   float64\n",
            " 2   forehead_height_cm         5001 non-null   float64\n",
            " 3   nose_wide                  5001 non-null   int64  \n",
            " 4   nose_long                  5001 non-null   int64  \n",
            " 5   lips_thin                  5001 non-null   int64  \n",
            " 6   distance_nose_to_lip_long  5001 non-null   int64  \n",
            " 7   gender                     5001 non-null   int64  \n",
            "dtypes: float64(2), int64(6)\n",
            "memory usage: 312.7 KB\n"
          ]
        }
      ]
    },
    {
      "cell_type": "code",
      "metadata": {
        "colab": {
          "base_uri": "https://localhost:8080/",
          "height": 300
        },
        "id": "FIxPMgDfAQYv",
        "outputId": "2cad9be0-98e3-4666-cb30-87a692f27347"
      },
      "source": [
        "data.describe()"
      ],
      "execution_count": 23,
      "outputs": [
        {
          "output_type": "execute_result",
          "data": {
            "text/plain": [
              "         long_hair  forehead_width_cm  forehead_height_cm    nose_wide  \\\n",
              "count  5001.000000        5001.000000         5001.000000  5001.000000   \n",
              "mean      0.869626          13.181484            5.946311     0.493901   \n",
              "std       0.336748           1.107128            0.541268     0.500013   \n",
              "min       0.000000          11.400000            5.100000     0.000000   \n",
              "25%       1.000000          12.200000            5.500000     0.000000   \n",
              "50%       1.000000          13.100000            5.900000     0.000000   \n",
              "75%       1.000000          14.000000            6.400000     1.000000   \n",
              "max       1.000000          15.500000            7.100000     1.000000   \n",
              "\n",
              "         nose_long    lips_thin  distance_nose_to_lip_long      gender  \n",
              "count  5001.000000  5001.000000                5001.000000  5001.00000  \n",
              "mean      0.507898     0.493101                   0.498900     0.49990  \n",
              "std       0.499988     0.500002                   0.500049     0.50005  \n",
              "min       0.000000     0.000000                   0.000000     0.00000  \n",
              "25%       0.000000     0.000000                   0.000000     0.00000  \n",
              "50%       1.000000     0.000000                   0.000000     0.00000  \n",
              "75%       1.000000     1.000000                   1.000000     1.00000  \n",
              "max       1.000000     1.000000                   1.000000     1.00000  "
            ],
            "text/html": [
              "\n",
              "  <div id=\"df-65a13578-1572-4450-9617-8b40b9a82257\">\n",
              "    <div class=\"colab-df-container\">\n",
              "      <div>\n",
              "<style scoped>\n",
              "    .dataframe tbody tr th:only-of-type {\n",
              "        vertical-align: middle;\n",
              "    }\n",
              "\n",
              "    .dataframe tbody tr th {\n",
              "        vertical-align: top;\n",
              "    }\n",
              "\n",
              "    .dataframe thead th {\n",
              "        text-align: right;\n",
              "    }\n",
              "</style>\n",
              "<table border=\"1\" class=\"dataframe\">\n",
              "  <thead>\n",
              "    <tr style=\"text-align: right;\">\n",
              "      <th></th>\n",
              "      <th>long_hair</th>\n",
              "      <th>forehead_width_cm</th>\n",
              "      <th>forehead_height_cm</th>\n",
              "      <th>nose_wide</th>\n",
              "      <th>nose_long</th>\n",
              "      <th>lips_thin</th>\n",
              "      <th>distance_nose_to_lip_long</th>\n",
              "      <th>gender</th>\n",
              "    </tr>\n",
              "  </thead>\n",
              "  <tbody>\n",
              "    <tr>\n",
              "      <th>count</th>\n",
              "      <td>5001.000000</td>\n",
              "      <td>5001.000000</td>\n",
              "      <td>5001.000000</td>\n",
              "      <td>5001.000000</td>\n",
              "      <td>5001.000000</td>\n",
              "      <td>5001.000000</td>\n",
              "      <td>5001.000000</td>\n",
              "      <td>5001.00000</td>\n",
              "    </tr>\n",
              "    <tr>\n",
              "      <th>mean</th>\n",
              "      <td>0.869626</td>\n",
              "      <td>13.181484</td>\n",
              "      <td>5.946311</td>\n",
              "      <td>0.493901</td>\n",
              "      <td>0.507898</td>\n",
              "      <td>0.493101</td>\n",
              "      <td>0.498900</td>\n",
              "      <td>0.49990</td>\n",
              "    </tr>\n",
              "    <tr>\n",
              "      <th>std</th>\n",
              "      <td>0.336748</td>\n",
              "      <td>1.107128</td>\n",
              "      <td>0.541268</td>\n",
              "      <td>0.500013</td>\n",
              "      <td>0.499988</td>\n",
              "      <td>0.500002</td>\n",
              "      <td>0.500049</td>\n",
              "      <td>0.50005</td>\n",
              "    </tr>\n",
              "    <tr>\n",
              "      <th>min</th>\n",
              "      <td>0.000000</td>\n",
              "      <td>11.400000</td>\n",
              "      <td>5.100000</td>\n",
              "      <td>0.000000</td>\n",
              "      <td>0.000000</td>\n",
              "      <td>0.000000</td>\n",
              "      <td>0.000000</td>\n",
              "      <td>0.00000</td>\n",
              "    </tr>\n",
              "    <tr>\n",
              "      <th>25%</th>\n",
              "      <td>1.000000</td>\n",
              "      <td>12.200000</td>\n",
              "      <td>5.500000</td>\n",
              "      <td>0.000000</td>\n",
              "      <td>0.000000</td>\n",
              "      <td>0.000000</td>\n",
              "      <td>0.000000</td>\n",
              "      <td>0.00000</td>\n",
              "    </tr>\n",
              "    <tr>\n",
              "      <th>50%</th>\n",
              "      <td>1.000000</td>\n",
              "      <td>13.100000</td>\n",
              "      <td>5.900000</td>\n",
              "      <td>0.000000</td>\n",
              "      <td>1.000000</td>\n",
              "      <td>0.000000</td>\n",
              "      <td>0.000000</td>\n",
              "      <td>0.00000</td>\n",
              "    </tr>\n",
              "    <tr>\n",
              "      <th>75%</th>\n",
              "      <td>1.000000</td>\n",
              "      <td>14.000000</td>\n",
              "      <td>6.400000</td>\n",
              "      <td>1.000000</td>\n",
              "      <td>1.000000</td>\n",
              "      <td>1.000000</td>\n",
              "      <td>1.000000</td>\n",
              "      <td>1.00000</td>\n",
              "    </tr>\n",
              "    <tr>\n",
              "      <th>max</th>\n",
              "      <td>1.000000</td>\n",
              "      <td>15.500000</td>\n",
              "      <td>7.100000</td>\n",
              "      <td>1.000000</td>\n",
              "      <td>1.000000</td>\n",
              "      <td>1.000000</td>\n",
              "      <td>1.000000</td>\n",
              "      <td>1.00000</td>\n",
              "    </tr>\n",
              "  </tbody>\n",
              "</table>\n",
              "</div>\n",
              "      <button class=\"colab-df-convert\" onclick=\"convertToInteractive('df-65a13578-1572-4450-9617-8b40b9a82257')\"\n",
              "              title=\"Convert this dataframe to an interactive table.\"\n",
              "              style=\"display:none;\">\n",
              "        \n",
              "  <svg xmlns=\"http://www.w3.org/2000/svg\" height=\"24px\"viewBox=\"0 0 24 24\"\n",
              "       width=\"24px\">\n",
              "    <path d=\"M0 0h24v24H0V0z\" fill=\"none\"/>\n",
              "    <path d=\"M18.56 5.44l.94 2.06.94-2.06 2.06-.94-2.06-.94-.94-2.06-.94 2.06-2.06.94zm-11 1L8.5 8.5l.94-2.06 2.06-.94-2.06-.94L8.5 2.5l-.94 2.06-2.06.94zm10 10l.94 2.06.94-2.06 2.06-.94-2.06-.94-.94-2.06-.94 2.06-2.06.94z\"/><path d=\"M17.41 7.96l-1.37-1.37c-.4-.4-.92-.59-1.43-.59-.52 0-1.04.2-1.43.59L10.3 9.45l-7.72 7.72c-.78.78-.78 2.05 0 2.83L4 21.41c.39.39.9.59 1.41.59.51 0 1.02-.2 1.41-.59l7.78-7.78 2.81-2.81c.8-.78.8-2.07 0-2.86zM5.41 20L4 18.59l7.72-7.72 1.47 1.35L5.41 20z\"/>\n",
              "  </svg>\n",
              "      </button>\n",
              "      \n",
              "  <style>\n",
              "    .colab-df-container {\n",
              "      display:flex;\n",
              "      flex-wrap:wrap;\n",
              "      gap: 12px;\n",
              "    }\n",
              "\n",
              "    .colab-df-convert {\n",
              "      background-color: #E8F0FE;\n",
              "      border: none;\n",
              "      border-radius: 50%;\n",
              "      cursor: pointer;\n",
              "      display: none;\n",
              "      fill: #1967D2;\n",
              "      height: 32px;\n",
              "      padding: 0 0 0 0;\n",
              "      width: 32px;\n",
              "    }\n",
              "\n",
              "    .colab-df-convert:hover {\n",
              "      background-color: #E2EBFA;\n",
              "      box-shadow: 0px 1px 2px rgba(60, 64, 67, 0.3), 0px 1px 3px 1px rgba(60, 64, 67, 0.15);\n",
              "      fill: #174EA6;\n",
              "    }\n",
              "\n",
              "    [theme=dark] .colab-df-convert {\n",
              "      background-color: #3B4455;\n",
              "      fill: #D2E3FC;\n",
              "    }\n",
              "\n",
              "    [theme=dark] .colab-df-convert:hover {\n",
              "      background-color: #434B5C;\n",
              "      box-shadow: 0px 1px 3px 1px rgba(0, 0, 0, 0.15);\n",
              "      filter: drop-shadow(0px 1px 2px rgba(0, 0, 0, 0.3));\n",
              "      fill: #FFFFFF;\n",
              "    }\n",
              "  </style>\n",
              "\n",
              "      <script>\n",
              "        const buttonEl =\n",
              "          document.querySelector('#df-65a13578-1572-4450-9617-8b40b9a82257 button.colab-df-convert');\n",
              "        buttonEl.style.display =\n",
              "          google.colab.kernel.accessAllowed ? 'block' : 'none';\n",
              "\n",
              "        async function convertToInteractive(key) {\n",
              "          const element = document.querySelector('#df-65a13578-1572-4450-9617-8b40b9a82257');\n",
              "          const dataTable =\n",
              "            await google.colab.kernel.invokeFunction('convertToInteractive',\n",
              "                                                     [key], {});\n",
              "          if (!dataTable) return;\n",
              "\n",
              "          const docLinkHtml = 'Like what you see? Visit the ' +\n",
              "            '<a target=\"_blank\" href=https://colab.research.google.com/notebooks/data_table.ipynb>data table notebook</a>'\n",
              "            + ' to learn more about interactive tables.';\n",
              "          element.innerHTML = '';\n",
              "          dataTable['output_type'] = 'display_data';\n",
              "          await google.colab.output.renderOutput(dataTable, element);\n",
              "          const docLink = document.createElement('div');\n",
              "          docLink.innerHTML = docLinkHtml;\n",
              "          element.appendChild(docLink);\n",
              "        }\n",
              "      </script>\n",
              "    </div>\n",
              "  </div>\n",
              "  "
            ]
          },
          "metadata": {},
          "execution_count": 23
        }
      ]
    },
    {
      "cell_type": "markdown",
      "metadata": {
        "id": "6A_GV3tjD4xd"
      },
      "source": [
        "**Visualization of gender Column**"
      ]
    },
    {
      "cell_type": "code",
      "metadata": {
        "colab": {
          "base_uri": "https://localhost:8080/"
        },
        "id": "ZMkR871w5L5P",
        "outputId": "814dff18-cbd9-4bac-89ef-03aa8ebd62b9"
      },
      "source": [
        "data.gender.value_counts()"
      ],
      "execution_count": 24,
      "outputs": [
        {
          "output_type": "execute_result",
          "data": {
            "text/plain": [
              "0    2501\n",
              "1    2500\n",
              "Name: gender, dtype: int64"
            ]
          },
          "metadata": {},
          "execution_count": 24
        }
      ]
    },
    {
      "cell_type": "code",
      "metadata": {
        "colab": {
          "base_uri": "https://localhost:8080/",
          "height": 315
        },
        "id": "sAixbtTsE_Ex",
        "outputId": "943c80b9-581b-499c-cbf6-b8e0fdec232b"
      },
      "source": [
        "sns.countplot(data.gender)\n",
        "plt.xlabel(\"gender\")\n",
        "plt.title(\"Number of Male and Female\")"
      ],
      "execution_count": 25,
      "outputs": [
        {
          "output_type": "execute_result",
          "data": {
            "text/plain": [
              "Text(0.5, 1.0, 'Number of Male and Female')"
            ]
          },
          "metadata": {},
          "execution_count": 25
        },
        {
          "output_type": "display_data",
          "data": {
            "text/plain": [
              "<Figure size 432x288 with 1 Axes>"
            ],
            "image/png": "[encoded data removed]"
          },
          "metadata": {
            "needs_background": "light"
          }
        }
      ]
    },
    {
      "cell_type": "markdown",
      "metadata": {
        "id": "CAjLwGkjF-UY"
      },
      "source": [
        "**Splitting into test and train datasets**"
      ]
    },
    {
      "cell_type": "code",
      "metadata": {
        "id": "iNMn5cNjGJjL"
      },
      "source": [
        "X = data.iloc[:,0:7]"
      ],
      "execution_count": 26,
      "outputs": []
    },
    {
      "cell_type": "code",
      "metadata": {
        "colab": {
          "base_uri": "https://localhost:8080/",
          "height": 424
        },
        "id": "cwb4umoKGK0J",
        "outputId": "b8dd5b83-f1fc-40c6-fc5d-401a9fd2ee33"
      },
      "source": [
        "X"
      ],
      "execution_count": 27,
      "outputs": [
        {
          "output_type": "execute_result",
          "data": {
            "text/plain": [
              "      long_hair  forehead_width_cm  forehead_height_cm  nose_wide  nose_long  \\\n",
              "0             1               11.8                 6.1          1          0   \n",
              "1             0               14.0                 5.4          0          0   \n",
              "2             0               11.8                 6.3          1          1   \n",
              "3             0               14.4                 6.1          0          1   \n",
              "4             1               13.5                 5.9          0          0   \n",
              "...         ...                ...                 ...        ...        ...   \n",
              "4996          1               13.6                 5.1          0          0   \n",
              "4997          1               11.9                 5.4          0          0   \n",
              "4998          1               12.9                 5.7          0          0   \n",
              "4999          1               13.2                 6.2          0          0   \n",
              "5000          1               15.4                 5.4          1          1   \n",
              "\n",
              "      lips_thin  distance_nose_to_lip_long  \n",
              "0             1                          1  \n",
              "1             1                          0  \n",
              "2             1                          1  \n",
              "3             1                          1  \n",
              "4             0                          0  \n",
              "...         ...                        ...  \n",
              "4996          0                          0  \n",
              "4997          0                          0  \n",
              "4998          0                          0  \n",
              "4999          0                          0  \n",
              "5000          1                          1  \n",
              "\n",
              "[5001 rows x 7 columns]"
            ],
            "text/html": [
              "\n",
              "  <div id=\"df-9e20fe16-16e0-49cc-9ee2-a4170add381a\">\n",
              "    <div class=\"colab-df-container\">\n",
              "      <div>\n",
              "<style scoped>\n",
              "    .dataframe tbody tr th:only-of-type {\n",
              "        vertical-align: middle;\n",
              "    }\n",
              "\n",
              "    .dataframe tbody tr th {\n",
              "        vertical-align: top;\n",
              "    }\n",
              "\n",
              "    .dataframe thead th {\n",
              "        text-align: right;\n",
              "    }\n",
              "</style>\n",
              "<table border=\"1\" class=\"dataframe\">\n",
              "  <thead>\n",
              "    <tr style=\"text-align: right;\">\n",
              "      <th></th>\n",
              "      <th>long_hair</th>\n",
              "      <th>forehead_width_cm</th>\n",
              "      <th>forehead_height_cm</th>\n",
              "      <th>nose_wide</th>\n",
              "      <th>nose_long</th>\n",
              "      <th>lips_thin</th>\n",
              "      <th>distance_nose_to_lip_long</th>\n",
              "    </tr>\n",
              "  </thead>\n",
              "  <tbody>\n",
              "    <tr>\n",
              "      <th>0</th>\n",
              "      <td>1</td>\n",
              "      <td>11.8</td>\n",
              "      <td>6.1</td>\n",
              "      <td>1</td>\n",
              "      <td>0</td>\n",
              "      <td>1</td>\n",
              "      <td>1</td>\n",
              "    </tr>\n",
              "    <tr>\n",
              "      <th>1</th>\n",
              "      <td>0</td>\n",
              "      <td>14.0</td>\n",
              "      <td>5.4</td>\n",
              "      <td>0</td>\n",
              "      <td>0</td>\n",
              "      <td>1</td>\n",
              "      <td>0</td>\n",
              "    </tr>\n",
              "    <tr>\n",
              "      <th>2</th>\n",
              "      <td>0</td>\n",
              "      <td>11.8</td>\n",
              "      <td>6.3</td>\n",
              "      <td>1</td>\n",
              "      <td>1</td>\n",
              "      <td>1</td>\n",
              "      <td>1</td>\n",
              "    </tr>\n",
              "    <tr>\n",
              "      <th>3</th>\n",
              "      <td>0</td>\n",
              "      <td>14.4</td>\n",
              "      <td>6.1</td>\n",
              "      <td>0</td>\n",
              "      <td>1</td>\n",
              "      <td>1</td>\n",
              "      <td>1</td>\n",
              "    </tr>\n",
              "    <tr>\n",
              "      <th>4</th>\n",
              "      <td>1</td>\n",
              "      <td>13.5</td>\n",
              "      <td>5.9</td>\n",
              "      <td>0</td>\n",
              "      <td>0</td>\n",
              "      <td>0</td>\n",
              "      <td>0</td>\n",
              "    </tr>\n",
              "    <tr>\n",
              "      <th>...</th>\n",
              "      <td>...</td>\n",
              "      <td>...</td>\n",
              "      <td>...</td>\n",
              "      <td>...</td>\n",
              "      <td>...</td>\n",
              "      <td>...</td>\n",
              "      <td>...</td>\n",
              "    </tr>\n",
              "    <tr>\n",
              "      <th>4996</th>\n",
              "      <td>1</td>\n",
              "      <td>13.6</td>\n",
              "      <td>5.1</td>\n",
              "      <td>0</td>\n",
              "      <td>0</td>\n",
              "      <td>0</td>\n",
              "      <td>0</td>\n",
              "    </tr>\n",
              "    <tr>\n",
              "      <th>4997</th>\n",
              "      <td>1</td>\n",
              "      <td>11.9</td>\n",
              "      <td>5.4</td>\n",
              "      <td>0</td>\n",
              "      <td>0</td>\n",
              "      <td>0</td>\n",
              "      <td>0</td>\n",
              "    </tr>\n",
              "    <tr>\n",
              "      <th>4998</th>\n",
              "      <td>1</td>\n",
              "      <td>12.9</td>\n",
              "      <td>5.7</td>\n",
              "      <td>0</td>\n",
              "      <td>0</td>\n",
              "      <td>0</td>\n",
              "      <td>0</td>\n",
              "    </tr>\n",
              "    <tr>\n",
              "      <th>4999</th>\n",
              "      <td>1</td>\n",
              "      <td>13.2</td>\n",
              "      <td>6.2</td>\n",
              "      <td>0</td>\n",
              "      <td>0</td>\n",
              "      <td>0</td>\n",
              "      <td>0</td>\n",
              "    </tr>\n",
              "    <tr>\n",
              "      <th>5000</th>\n",
              "      <td>1</td>\n",
              "      <td>15.4</td>\n",
              "      <td>5.4</td>\n",
              "      <td>1</td>\n",
              "      <td>1</td>\n",
              "      <td>1</td>\n",
              "      <td>1</td>\n",
              "    </tr>\n",
              "  </tbody>\n",
              "</table>\n",
              "<p>5001 rows × 7 columns</p>\n",
              "</div>\n",
              "      <button class=\"colab-df-convert\" onclick=\"convertToInteractive('df-9e20fe16-16e0-49cc-9ee2-a4170add381a')\"\n",
              "              title=\"Convert this dataframe to an interactive table.\"\n",
              "              style=\"display:none;\">\n",
              "        \n",
              "  <svg xmlns=\"http://www.w3.org/2000/svg\" height=\"24px\"viewBox=\"0 0 24 24\"\n",
              "       width=\"24px\">\n",
              "    <path d=\"M0 0h24v24H0V0z\" fill=\"none\"/>\n",
              "    <path d=\"M18.56 5.44l.94 2.06.94-2.06 2.06-.94-2.06-.94-.94-2.06-.94 2.06-2.06.94zm-11 1L8.5 8.5l.94-2.06 2.06-.94-2.06-.94L8.5 2.5l-.94 2.06-2.06.94zm10 10l.94 2.06.94-2.06 2.06-.94-2.06-.94-.94-2.06-.94 2.06-2.06.94z\"/><path d=\"M17.41 7.96l-1.37-1.37c-.4-.4-.92-.59-1.43-.59-.52 0-1.04.2-1.43.59L10.3 9.45l-7.72 7.72c-.78.78-.78 2.05 0 2.83L4 21.41c.39.39.9.59 1.41.59.51 0 1.02-.2 1.41-.59l7.78-7.78 2.81-2.81c.8-.78.8-2.07 0-2.86zM5.41 20L4 18.59l7.72-7.72 1.47 1.35L5.41 20z\"/>\n",
              "  </svg>\n",
              "      </button>\n",
              "      \n",
              "  <style>\n",
              "    .colab-df-container {\n",
              "      display:flex;\n",
              "      flex-wrap:wrap;\n",
              "      gap: 12px;\n",
              "    }\n",
              "\n",
              "    .colab-df-convert {\n",
              "      background-color: #E8F0FE;\n",
              "      border: none;\n",
              "      border-radius: 50%;\n",
              "      cursor: pointer;\n",
              "      display: none;\n",
              "      fill: #1967D2;\n",
              "      height: 32px;\n",
              "      padding: 0 0 0 0;\n",
              "      width: 32px;\n",
              "    }\n",
              "\n",
              "    .colab-df-convert:hover {\n",
              "      background-color: #E2EBFA;\n",
              "      box-shadow: 0px 1px 2px rgba(60, 64, 67, 0.3), 0px 1px 3px 1px rgba(60, 64, 67, 0.15);\n",
              "      fill: #174EA6;\n",
              "    }\n",
              "\n",
              "    [theme=dark] .colab-df-convert {\n",
              "      background-color: #3B4455;\n",
              "      fill: #D2E3FC;\n",
              "    }\n",
              "\n",
              "    [theme=dark] .colab-df-convert:hover {\n",
              "      background-color: #434B5C;\n",
              "      box-shadow: 0px 1px 3px 1px rgba(0, 0, 0, 0.15);\n",
              "      filter: drop-shadow(0px 1px 2px rgba(0, 0, 0, 0.3));\n",
              "      fill: #FFFFFF;\n",
              "    }\n",
              "  </style>\n",
              "\n",
              "      <script>\n",
              "        const buttonEl =\n",
              "          document.querySelector('#df-9e20fe16-16e0-49cc-9ee2-a4170add381a button.colab-df-convert');\n",
              "        buttonEl.style.display =\n",
              "          google.colab.kernel.accessAllowed ? 'block' : 'none';\n",
              "\n",
              "        async function convertToInteractive(key) {\n",
              "          const element = document.querySelector('#df-9e20fe16-16e0-49cc-9ee2-a4170add381a');\n",
              "          const dataTable =\n",
              "            await google.colab.kernel.invokeFunction('convertToInteractive',\n",
              "                                                     [key], {});\n",
              "          if (!dataTable) return;\n",
              "\n",
              "          const docLinkHtml = 'Like what you see? Visit the ' +\n",
              "            '<a target=\"_blank\" href=https://colab.research.google.com/notebooks/data_table.ipynb>data table notebook</a>'\n",
              "            + ' to learn more about interactive tables.';\n",
              "          element.innerHTML = '';\n",
              "          dataTable['output_type'] = 'display_data';\n",
              "          await google.colab.output.renderOutput(dataTable, element);\n",
              "          const docLink = document.createElement('div');\n",
              "          docLink.innerHTML = docLinkHtml;\n",
              "          element.appendChild(docLink);\n",
              "        }\n",
              "      </script>\n",
              "    </div>\n",
              "  </div>\n",
              "  "
            ]
          },
          "metadata": {},
          "execution_count": 27
        }
      ]
    },
    {
      "cell_type": "code",
      "metadata": {
        "id": "qfHmpurtapsP"
      },
      "source": [
        "Y = data['gender'].ravel()"
      ],
      "execution_count": 28,
      "outputs": []
    },
    {
      "cell_type": "code",
      "metadata": {
        "colab": {
          "base_uri": "https://localhost:8080/"
        },
        "id": "aJRfyaUjasH8",
        "outputId": "372242c2-173c-4b1e-effc-aa1385de3149"
      },
      "source": [
        "Y"
      ],
      "execution_count": 29,
      "outputs": [
        {
          "output_type": "execute_result",
          "data": {
            "text/plain": [
              "array([1, 0, 1, ..., 0, 0, 1])"
            ]
          },
          "metadata": {},
          "execution_count": 29
        }
      ]
    },
    {
      "cell_type": "code",
      "metadata": {
        "id": "fWaxJL4RbKRu"
      },
      "source": [
        "from sklearn.model_selection import train_test_split\n",
        "X_train,X_test,Y_train,Y_test=train_test_split(X,Y,test_size = 0.30,random_state=42)"
      ],
      "execution_count": 30,
      "outputs": []
    },
    {
      "cell_type": "code",
      "metadata": {
        "colab": {
          "base_uri": "https://localhost:8080/"
        },
        "id": "gAK1f5sHbO7M",
        "outputId": "f332b106-8e91-4ecd-e63b-c5924565be7b"
      },
      "source": [
        "X_train.shape, X_test.shape,Y_train.shape,Y_test.shape"
      ],
      "execution_count": 31,
      "outputs": [
        {
          "output_type": "execute_result",
          "data": {
            "text/plain": [
              "((3500, 7), (1501, 7), (3500,), (1501,))"
            ]
          },
          "metadata": {},
          "execution_count": 31
        }
      ]
    },
    {
      "cell_type": "markdown",
      "metadata": {
        "id": "eHZibmSacoZA"
      },
      "source": [
        "**Testing the accuracy of various ML Algorithms on Gender Classification dataset**"
      ]
    },
    {
      "cell_type": "markdown",
      "metadata": {
        "id": "ZrVjvPEEYfdu"
      },
      "source": [
        "**CONFUSION MATRIX :**\n",
        "\n",
        "**If we consider a binary classification problem,**\n",
        "\n",
        "**1. Confusion_Matrix[0][0] = True Negative(TN)**\n",
        "\n",
        "**2. Confusion_Matrix[0][1] = False Postive(FP)**\n",
        "\n",
        "**3. Confusion_Matrix[1][0] = False Negative(FN)**\n",
        "\n",
        "**4. Confusion_Matrix[1][1] = True Postive(TP)**\n",
        "\n",
        "\n",
        "\n",
        "\n",
        "\n",
        "\n",
        "\n"
      ]
    },
    {
      "cell_type": "markdown",
      "metadata": {
        "id": "34ICm4R0Z75q"
      },
      "source": [
        "**ACCURACY :**\n",
        "\n",
        "**Accuracy = (TP+TN)/(TP+TN+FP+FN)**"
      ]
    },
    {
      "cell_type": "markdown",
      "metadata": {
        "id": "sLKJMDKrZ9UH"
      },
      "source": [
        "**PRECISION:**\n",
        "\n",
        "**Precision = TP/(TP+FP)**"
      ]
    },
    {
      "cell_type": "markdown",
      "metadata": {
        "id": "u9VTRJuqacQg"
      },
      "source": [
        "**RECALL:**\n",
        "\n",
        "**Recall = TP/(TP+FN)**"
      ]
    },
    {
      "cell_type": "markdown",
      "metadata": {
        "id": "AB8gnTg0ar5E"
      },
      "source": [
        "**F1 SCORE :**\n",
        "\n",
        "**F1 Score = 2 * Precision * Recall/(Precision+Recall)**"
      ]
    },
    {
      "cell_type": "markdown",
      "metadata": {
        "id": "l6fp1zsGWX3F"
      },
      "source": [
        "Decision Tree"
      ]
    },
    {
      "cell_type": "code",
      "source": [
        "import timeit"
      ],
      "metadata": {
        "id": "AlvrGc17hjY0"
      },
      "execution_count": 32,
      "outputs": []
    },
    {
      "cell_type": "code",
      "metadata": {
        "id": "GaGrA1MpbiBX"
      },
      "source": [
        "start = timeit.default_timer()\n",
        "decision_tree = DecisionTreeClassifier()\n",
        "decision_tree.fit(X_train, Y_train)\n",
        "Y_pred = decision_tree.predict(X_test)\n",
        "end = timeit.default_timer()\n",
        "time_id3 = end-start"
      ],
      "execution_count": 33,
      "outputs": []
    },
    {
      "cell_type": "code",
      "metadata": {
        "colab": {
          "base_uri": "https://localhost:8080/"
        },
        "id": "RCuBOJR3fiy1",
        "outputId": "29a403a7-9f92-4509-dac0-0657f9dcacaa"
      },
      "source": [
        "from sklearn.metrics import confusion_matrix,accuracy_score\n",
        "cm=confusion_matrix(Y_test, Y_pred)\n",
        "print('Confusion Matrix')\n",
        "print(cm)"
      ],
      "execution_count": 34,
      "outputs": [
        {
          "output_type": "stream",
          "name": "stdout",
          "text": [
            "Confusion Matrix\n",
            "[[706  33]\n",
            " [ 34 728]]\n"
          ]
        }
      ]
    },
    {
      "cell_type": "code",
      "metadata": {
        "colab": {
          "base_uri": "https://localhost:8080/"
        },
        "id": "-urPWQk4hU3O",
        "outputId": "98879eec-26f1-4952-f670-8fa704d9f8c2"
      },
      "source": [
        "TP = cm[1][1]\n",
        "TN = cm[0][0]\n",
        "FP = cm[0][1]\n",
        "FN = cm[1][0]\n",
        "\n",
        "#accuracy\n",
        "accuracy_id3 = (TP+TN)/(TP+TN+FP+FN)\n",
        "\n",
        "#precision\n",
        "precision = TP/(TP+FP)\n",
        "\n",
        "#recall\n",
        "recall = TP/(TP+FN)\n",
        "\n",
        "#f1_score \n",
        "f1_score = (2*(precision)*(recall))/(precision+recall)\n",
        "\n",
        "print(\"Accuracy = \",accuracy_id3)\n",
        "print(\"Precision = \",precision)\n",
        "print(\"Recall = \",recall)\n",
        "print(\"F1_Score = \",f1_score)"
      ],
      "execution_count": 35,
      "outputs": [
        {
          "output_type": "stream",
          "name": "stdout",
          "text": [
            "Accuracy =  0.955363091272485\n",
            "Precision =  0.9566360052562418\n",
            "Recall =  0.9553805774278216\n",
            "F1_Score =  0.9560078791858175\n"
          ]
        }
      ]
    },
    {
      "cell_type": "markdown",
      "metadata": {
        "id": "91c-WL89WT0O"
      },
      "source": [
        "Random Forest"
      ]
    },
    {
      "cell_type": "code",
      "metadata": {
        "id": "CobPjY-Pkzii"
      },
      "source": [
        "start = timeit.default_timer()\n",
        "from sklearn.ensemble import RandomForestClassifier\n",
        "classifier = RandomForestClassifier().fit(X_train, Y_train)\n",
        "Y_pred1 = classifier.predict(X_test)\n",
        "end = timeit.default_timer()\n",
        "time_rf = end-start"
      ],
      "execution_count": 36,
      "outputs": []
    },
    {
      "cell_type": "code",
      "source": [
        ""
      ],
      "metadata": {
        "id": "TPHrKsMZW8uW"
      },
      "execution_count": 36,
      "outputs": []
    },
    {
      "cell_type": "code",
      "source": [
        "zzz=X_test.iloc[[0,1], :]"
      ],
      "metadata": {
        "id": "_zv-QA7xWEUK"
      },
      "execution_count": 37,
      "outputs": []
    },
    {
      "cell_type": "code",
      "source": [
        " classifier.predict(zzz)"
      ],
      "metadata": {
        "colab": {
          "base_uri": "https://localhost:8080/"
        },
        "id": "qqzHLxnRXCdX",
        "outputId": "ffdbdb85-7788-4e6f-fc83-8c01f29c2094"
      },
      "execution_count": 38,
      "outputs": [
        {
          "output_type": "execute_result",
          "data": {
            "text/plain": [
              "array([1, 0])"
            ]
          },
          "metadata": {},
          "execution_count": 38
        }
      ]
    },
    {
      "cell_type": "code",
      "source": [
        "Y_pred1"
      ],
      "metadata": {
        "colab": {
          "base_uri": "https://localhost:8080/"
        },
        "id": "0L1YWY_nWvci",
        "outputId": "56fa17b9-679d-45a7-eeb2-dfcb1c40e8f5"
      },
      "execution_count": 39,
      "outputs": [
        {
          "output_type": "execute_result",
          "data": {
            "text/plain": [
              "array([1, 0, 0, ..., 1, 1, 1])"
            ]
          },
          "metadata": {},
          "execution_count": 39
        }
      ]
    },
    {
      "cell_type": "code",
      "metadata": {
        "colab": {
          "base_uri": "https://localhost:8080/"
        },
        "id": "dAJE46selGjQ",
        "outputId": "835e0e58-cf6a-4050-ec0a-27293edfcaa9"
      },
      "source": [
        "from sklearn.metrics import confusion_matrix\n",
        "cm1=confusion_matrix(Y_test, Y_pred1)\n",
        "print('Confusion Matrix')\n",
        "print(cm1)"
      ],
      "execution_count": 40,
      "outputs": [
        {
          "output_type": "stream",
          "name": "stdout",
          "text": [
            "Confusion Matrix\n",
            "[[711  28]\n",
            " [ 31 731]]\n"
          ]
        }
      ]
    },
    {
      "cell_type": "code",
      "metadata": {
        "colab": {
          "base_uri": "https://localhost:8080/"
        },
        "id": "q9H3dCP9lNnH",
        "outputId": "11248cff-e254-4fc5-ba22-9aebafc73fc2"
      },
      "source": [
        "TP1 = cm1[1][1]\n",
        "TN1 = cm1[0][0]\n",
        "FP1 = cm1[0][1]\n",
        "FN1 = cm1[1][0]\n",
        "\n",
        "#accuracy\n",
        "accuracy_rf = (TP1+TN1)/(TP1+TN1+FP1+FN1)\n",
        "\n",
        "#precision\n",
        "precision_1 = TP1/(TP1+FP1)\n",
        "\n",
        "#recall\n",
        "recall_1 = TP1/(TP1+FN1)\n",
        "\n",
        "#f1_score \n",
        "f1_score_1 = (2*(precision_1)*(recall_1))/(precision_1+recall_1)\n",
        "\n",
        "print(\"Accuracy = \",accuracy_rf)\n",
        "print(\"Precision = \",precision_1)\n",
        "print(\"Recall = \",recall_1)\n",
        "print(\"F1_Score = \",f1_score_1)"
      ],
      "execution_count": 41,
      "outputs": [
        {
          "output_type": "stream",
          "name": "stdout",
          "text": [
            "Accuracy =  0.960692871419054\n",
            "Precision =  0.9631093544137023\n",
            "Recall =  0.9593175853018373\n",
            "F1_Score =  0.9612097304404996\n"
          ]
        }
      ]
    },
    {
      "cell_type": "markdown",
      "metadata": {
        "id": "69BTR89iWPoG"
      },
      "source": [
        "K-NN"
      ]
    },
    {
      "cell_type": "code",
      "metadata": {
        "id": "_Q7CgjJ8lcfr"
      },
      "source": [
        "start = timeit.default_timer()\n",
        "knn = KNeighborsClassifier(n_neighbors = 29)\n",
        "knn.fit(X_train, Y_train)\n",
        "Y_pred2 = knn.predict(X_test)\n",
        "end = timeit.default_timer()\n",
        "time_knn = end-start"
      ],
      "execution_count": 42,
      "outputs": []
    },
    {
      "cell_type": "code",
      "metadata": {
        "colab": {
          "base_uri": "https://localhost:8080/"
        },
        "id": "cheLkdOgmBN9",
        "outputId": "f21445bb-3da8-4099-f559-e193bcd7b722"
      },
      "source": [
        "from sklearn.metrics import confusion_matrix\n",
        "cm2=confusion_matrix(Y_test, Y_pred2)\n",
        "print('Confusion Matrix')\n",
        "print(cm2)"
      ],
      "execution_count": 43,
      "outputs": [
        {
          "output_type": "stream",
          "name": "stdout",
          "text": [
            "Confusion Matrix\n",
            "[[726  13]\n",
            " [ 37 725]]\n"
          ]
        }
      ]
    },
    {
      "cell_type": "code",
      "metadata": {
        "colab": {
          "base_uri": "https://localhost:8080/"
        },
        "id": "-BMhHzkimIE0",
        "outputId": "f53964f0-4146-4e4e-c81c-867815eacfe4"
      },
      "source": [
        "TP2 = cm2[1][1]\n",
        "TN2 = cm2[0][0]\n",
        "FP2 = cm2[0][1]\n",
        "FN2 = cm2[1][0]\n",
        "\n",
        "#accuracy\n",
        "accuracy_knn = (TP2+TN2)/(TP2+TN2+FP2+FN2)\n",
        "\n",
        "#precision\n",
        "precision_2 = TP2/(TP2+FP2)\n",
        "\n",
        "#recall\n",
        "recall_2 = TP2/(TP2+FN2)\n",
        "\n",
        "#f1_score \n",
        "f1_score_2 = (2*(precision_2)*(recall_2))/(precision_2+recall_2)\n",
        "\n",
        "print(\"Accuracy = \",accuracy_knn)\n",
        "print(\"Precision = \",precision_2)\n",
        "print(\"Recall = \",recall_2)\n",
        "print(\"F1_Score = \",f1_score_2)"
      ],
      "execution_count": 44,
      "outputs": [
        {
          "output_type": "stream",
          "name": "stdout",
          "text": [
            "Accuracy =  0.966688874083944\n",
            "Precision =  0.9823848238482384\n",
            "Recall =  0.9514435695538058\n",
            "F1_Score =  0.9666666666666666\n"
          ]
        }
      ]
    },
    {
      "cell_type": "markdown",
      "metadata": {
        "id": "fcrgwYQVWL-p"
      },
      "source": [
        "logistic regression"
      ]
    },
    {
      "cell_type": "code",
      "metadata": {
        "id": "8sY3ir_Yn8SD"
      },
      "source": [
        "start = timeit.default_timer()\n",
        "logreg = LogisticRegression()\n",
        "logreg.fit(X_train, Y_train)\n",
        "Y_pred3 = logreg.predict(X_test)\n",
        "end = timeit.default_timer()\n",
        "time_lr = end-start"
      ],
      "execution_count": 45,
      "outputs": []
    },
    {
      "cell_type": "code",
      "metadata": {
        "colab": {
          "base_uri": "https://localhost:8080/"
        },
        "id": "5POWmAkboNx2",
        "outputId": "527be1a9-445f-406f-bf8c-d0a951dbf5b4"
      },
      "source": [
        "from sklearn.metrics import confusion_matrix\n",
        "cm3=confusion_matrix(Y_test, Y_pred3)\n",
        "print('Confusion Matrix')\n",
        "print(cm3)"
      ],
      "execution_count": 46,
      "outputs": [
        {
          "output_type": "stream",
          "name": "stdout",
          "text": [
            "Confusion Matrix\n",
            "[[715  24]\n",
            " [ 30 732]]\n"
          ]
        }
      ]
    },
    {
      "cell_type": "code",
      "metadata": {
        "colab": {
          "base_uri": "https://localhost:8080/"
        },
        "id": "Zo1gdsPiodXa",
        "outputId": "5935c1c0-17e2-4a34-fd9b-f09d24e07839"
      },
      "source": [
        "TP3 = cm3[1][1]\n",
        "TN3 = cm3[0][0]\n",
        "FP3 = cm3[0][1]\n",
        "FN3 = cm3[1][0]\n",
        "#accuracy\n",
        "accuracy_lr = (TP3+TN3)/(TP3+TN3+FP3+FN3)\n",
        "\n",
        "#precision\n",
        "precision_3 = TP3/(TP3+FP3)\n",
        "\n",
        "#recall\n",
        "recall_3 = TP3/(TP3+FN3)\n",
        "\n",
        "#f1_score \n",
        "f1_score_3 = (2*(precision_3)*(recall_3))/(precision_3+recall_3)\n",
        "\n",
        "print(\"Accuracy = \",accuracy_lr)\n",
        "print(\"Precision = \",precision_3)\n",
        "print(\"Recall = \",recall_3)\n",
        "print(\"F1_Score = \",f1_score_3)"
      ],
      "execution_count": 47,
      "outputs": [
        {
          "output_type": "stream",
          "name": "stdout",
          "text": [
            "Accuracy =  0.9640239840106596\n",
            "Precision =  0.9682539682539683\n",
            "Recall =  0.9606299212598425\n",
            "F1_Score =  0.9644268774703557\n"
          ]
        }
      ]
    },
    {
      "cell_type": "markdown",
      "metadata": {
        "id": "mqdYwUEpWDZl"
      },
      "source": [
        "SVM (linear)\n"
      ]
    },
    {
      "cell_type": "code",
      "metadata": {
        "id": "y5o-LtpkpHvn"
      },
      "source": [
        "start = timeit.default_timer()\n",
        "linear_svc = LinearSVC()\n",
        "linear_svc.fit(X_train, Y_train)\n",
        "Y_pred4 = linear_svc.predict(X_test)\n",
        "end = timeit.default_timer()\n",
        "time_svm = end-start"
      ],
      "execution_count": 48,
      "outputs": []
    },
    {
      "cell_type": "code",
      "metadata": {
        "colab": {
          "base_uri": "https://localhost:8080/"
        },
        "id": "kDB4OyUDpXBa",
        "outputId": "15db2e60-13d8-45c0-d3d0-25ceadb06dc0"
      },
      "source": [
        "from sklearn.metrics import confusion_matrix\n",
        "cm4=confusion_matrix(Y_test, Y_pred4)\n",
        "print('Confusion Matrix')\n",
        "print(cm4)"
      ],
      "execution_count": 49,
      "outputs": [
        {
          "output_type": "stream",
          "name": "stdout",
          "text": [
            "Confusion Matrix\n",
            "[[690  49]\n",
            " [  7 755]]\n"
          ]
        }
      ]
    },
    {
      "cell_type": "code",
      "metadata": {
        "colab": {
          "base_uri": "https://localhost:8080/"
        },
        "id": "WmIR4QMlpaer",
        "outputId": "140d29c2-35f0-4922-a704-9e5b3e6e707d"
      },
      "source": [
        "TP4 = cm4[1][1]\n",
        "TN4 = cm4[0][0]\n",
        "FP4 = cm4[0][1]\n",
        "FN4 = cm4[1][0]\n",
        "#accuracy\n",
        "accuracy_svm = (TP4+TN4)/(TP4+TN4+FP4+FN4)\n",
        "\n",
        "#precision\n",
        "precision_4 = TP4/(TP4+FP4)\n",
        "\n",
        "#recall\n",
        "recall_4 = TP4/(TP4+FN4)\n",
        "\n",
        "#f1_score \n",
        "f1_score_4 = (2*(precision_4)*(recall_4))/(precision_4+recall_4)\n",
        "\n",
        "print(\"Accuracy = \",accuracy_svm)\n",
        "print(\"Precision = \",precision_4)\n",
        "print(\"Recall = \",recall_4)\n",
        "print(\"F1_Score = \",f1_score_4)"
      ],
      "execution_count": 50,
      "outputs": [
        {
          "output_type": "stream",
          "name": "stdout",
          "text": [
            "Accuracy =  0.9626915389740173\n",
            "Precision =  0.9390547263681592\n",
            "Recall =  0.9908136482939632\n",
            "F1_Score =  0.9642401021711366\n"
          ]
        }
      ]
    },
    {
      "cell_type": "code",
      "source": [
        "import matplotlib.pyplot as plt\n",
        "# Look at index 4 and 6, which demonstrate overlapping cases.\n",
        "x1 = [1,3,5,7,9]\n",
        "accuracy = [(accuracy_id3-0.95),accuracy_rf-0.95,accuracy_knn-0.95,accuracy_lr-0.95,accuracy_svm-0.95]\n",
        "print(accuracy)\n",
        "plt.bar(x1, accuracy, label=\"Blue Bar\", color='b')\n",
        "plt.plot()\n",
        "plt.xlabel(\"\")\n",
        "plt.ylabel(\"bar height\")\n",
        "plt.title(\"Accuracies of different algorithms\")\n",
        "plt.legend()\n",
        "plt.show()"
      ],
      "metadata": {
        "colab": {
          "base_uri": "https://localhost:8080/",
          "height": 301
        },
        "id": "dYoJ19uihm49",
        "outputId": "ed64d923-17eb-494c-b9ef-89284185a5f7"
      },
      "execution_count": 51,
      "outputs": [
        {
          "output_type": "stream",
          "name": "stdout",
          "text": [
            "[0.005363091272485021, 0.010692871419054062, 0.01668887408394404, 0.01402398401065963, 0.012691538974017313]\n"
          ]
        },
        {
          "output_type": "display_data",
          "data": {
            "text/plain": [
              "<Figure size 432x288 with 1 Axes>"
            ],
            "image/png": "[encoded data removed]"
          },
          "metadata": {
            "needs_background": "light"
          }
        }
      ]
    },
    {
      "cell_type": "code",
      "source": [
        "import matplotlib.pyplot as plt\n",
        "# Look at index 4 and 6, which demonstrate overlapping cases.\n",
        "x1 = [1,3,5,7,9]\n",
        "time = [(time_id3-0),time_rf-0,time_knn-0,time_lr-0,time_svm-0]\n",
        "print(accuracy)\n",
        "plt.bar(x1, time, label=\"Red Bar\", color='r')\n",
        "plt.plot()\n",
        "plt.xlabel(\"\")\n",
        "plt.ylabel(\"bar height\")\n",
        "plt.title(\" Traning Time of different algorithms\")\n",
        "plt.legend()\n",
        "plt.show()"
      ],
      "metadata": {
        "id": "LRccixTGhm1W",
        "colab": {
          "base_uri": "https://localhost:8080/",
          "height": 301
        },
        "outputId": "9c1c3109-9168-44cf-ae17-bb390c1545f5"
      },
      "execution_count": 52,
      "outputs": [
        {
          "output_type": "stream",
          "name": "stdout",
          "text": [
            "[0.005363091272485021, 0.010692871419054062, 0.01668887408394404, 0.01402398401065963, 0.012691538974017313]\n"
          ]
        },
        {
          "output_type": "display_data",
          "data": {
            "text/plain": [
              "<Figure size 432x288 with 1 Axes>"
            ],
            "image/png": "[encoded data removed]"
          },
          "metadata": {
            "needs_background": "light"
          }
        }
      ]
    },
    {
      "cell_type": "code",
      "source": [
        ""
      ],
      "metadata": {
        "id": "DjuWdub1hmzT"
      },
      "execution_count": 52,
      "outputs": []
    },
    {
      "cell_type": "code",
      "source": [
        ""
      ],
      "metadata": {
        "id": "AQq1C4AahmxD"
      },
      "execution_count": 52,
      "outputs": []
    }
  ]
}